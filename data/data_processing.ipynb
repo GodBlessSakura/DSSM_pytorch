{
 "cells": [
  {
   "attachments": {},
   "cell_type": "markdown",
   "metadata": {},
   "source": [
    "要跟sample的数据差不多\n",
    "\n",
    "格式是：user_id, movie_id, rating, timestamp, title, genres, gender, age, occupation, zip\n",
    "\n",
    "所以从这个角度来说，我只需要按着这个来弄就可以了\n",
    "1. user_id, movie_id, rating, timestamp 在数据集u.data，到时候需要合并一下\n",
    "2. title 和 genres 是电影的属性，应该在u.item中可以找到。注意到一个item会有多个genres，但是在数据处理似乎并没有考虑这一点，而是把多个也当做一个新的流派来进行考虑。\n",
    "3. gender, age, occupation, zip 是用户的属性，可以在u.user中找到"
   ]
  },
  {
   "cell_type": "code",
   "execution_count": 1,
   "metadata": {},
   "outputs": [],
   "source": [
    "# 针对user和item的属性做一个提取。\n",
    "## user\n",
    "user_info_dict = dict()\n",
    "with open('./ml-100k/u.user', 'r') as f:\n",
    "    for l in f.readlines():\n",
    "        line = l.rstrip('\\n').split('|')\n",
    "        user_id = line[0]\n",
    "        user_age = line[1]\n",
    "        user_gender = line[2]\n",
    "        user_occupation = line[3]\n",
    "        user_zip = line[4]\n",
    "        user_info_dict[user_id] = (user_age, user_gender, user_occupation, user_zip)\n"
   ]
  },
  {
   "cell_type": "code",
   "execution_count": 3,
   "metadata": {},
   "outputs": [],
   "source": [
    "## item\n",
    "item_info_dict = dict()\n",
    "with open('./ml-100k/u.item', 'r', encoding='ISO-8859-1') as f:\n",
    "    for l in f.readlines():\n",
    "        line = l.rstrip('\\n').split('|')\n",
    "        # print(line)\n",
    "        item_id = line[0]\n",
    "        item_title = line[1]\n",
    "        item_genres = ''\n",
    "        for i in line[5:]:\n",
    "            item_genres += i\n",
    "        # print(item_id, item_title, item_genres)\n",
    "        item_info_dict[item_id] = (item_title, item_genres)"
   ]
  },
  {
   "cell_type": "code",
   "execution_count": 3,
   "metadata": {},
   "outputs": [],
   "source": [
    "# 对数据集进行整合\n",
    "output_file = open('./ml-100k.txt', 'w')\n",
    "output_file.write('user_id,movie_id,rating,timestamp,title,genres,gender,age,occupation,zip\\n')\n",
    "with open('./ml-100k/u.data', 'r') as f:\n",
    "    for l in f.readlines():\n",
    "        line = l[:-1].split('\\t')\n",
    "        # print(line)\n",
    "        user_id = line[0]\n",
    "        item_id = line[1]\n",
    "        rating = line[2]\n",
    "        timestamp = line[3]\n",
    "        item_title = item_info_dict[item_id][0]\n",
    "        item_genres = item_info_dict[item_id][1]\n",
    "        user_age = user_info_dict[user_id][0]\n",
    "        user_gender = user_info_dict[user_id][1]\n",
    "        user_occupation = user_info_dict[user_id][2]\n",
    "        user_zip = user_info_dict[user_id][3]\n",
    "        output_list = [user_id, item_id, rating, timestamp, '\"'+item_title+'\"', item_genres, user_gender, user_age, user_occupation, user_zip]\n",
    "        output_line = ''\n",
    "        for name in output_list:\n",
    "            output_line += name + ','\n",
    "        output_line = output_line[:-1] + '\\n'\n",
    "        # print(output_line)\n",
    "        output_file.write(output_line)\n",
    "    \n",
    "output_file.close()\n"
   ]
  }
 ],
 "metadata": {
  "kernelspec": {
   "display_name": "Python 3.7.0 ('torch')",
   "language": "python",
   "name": "python3"
  },
  "language_info": {
   "codemirror_mode": {
    "name": "ipython",
    "version": 3
   },
   "file_extension": ".py",
   "mimetype": "text/x-python",
   "name": "python",
   "nbconvert_exporter": "python",
   "pygments_lexer": "ipython3",
   "version": "3.7.10"
  },
  "orig_nbformat": 4,
  "vscode": {
   "interpreter": {
    "hash": "9441146428433421db0d924e28699bc81d9571c05f52cc036aaf320868297349"
   }
  }
 },
 "nbformat": 4,
 "nbformat_minor": 2
}
